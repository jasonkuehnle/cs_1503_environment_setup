{
 "cells": [
  {
   "cell_type": "markdown",
   "id": "ccd0f240",
   "metadata": {},
   "source": [
    "# First Notebook\n",
    "\n",
    "* Jason Kuehnle\n",
    "* 1/19/24\n"
   ]
  },
  {
   "cell_type": "markdown",
   "id": "3762a538",
   "metadata": {},
   "source": [
    "## Markdown Exercises\n",
    "\n",
    "I'm interested in machine learning because I enjoy the math side of computer science, which is something not tackled in a lot of other CS courses. Machine learning is also becoming *more* and **more** prevalent in the industry, so it is very beneficial knowledge to gain.\n",
    "***Three Things I'd Like to Learn:***\n",
    "* Learn different ways to summarize data\n",
    "* Learn about statistical models\n",
    "* Learn about clustering"
   ]
  },
  {
   "cell_type": "markdown",
   "id": "277bc2a9",
   "metadata": {},
   "source": [
    "![](https://media.giphy.com/media/AOgwrHx4o49v2ZisoR/giphy.gif?cid=82a1493b12gfjddv3b0oycnmayynl77rvov661wlglcqjypy&ep=v1_gifs_trending&rid=giphy.gif&ct=g)\n"
   ]
  },
  {
   "cell_type": "markdown",
   "id": "6dff9d31",
   "metadata": {},
   "source": [
    "## Jupyter Notebook Exercises"
   ]
  },
  {
   "cell_type": "code",
   "execution_count": 1,
   "id": "abf27f4f",
   "metadata": {},
   "outputs": [
    {
     "name": "stdout",
     "output_type": "stream",
     "text": [
      "What is your name? Jason\n",
      "Hello Jason !\n"
     ]
    }
   ],
   "source": [
    "name = input(prompt=\"What is your name? \")\n",
    "print(\"Hello\", name, \"!\")\n"
   ]
  }
 ],
 "metadata": {
  "kernelspec": {
   "display_name": "Python 3 (ipykernel)",
   "language": "python",
   "name": "python3"
  },
  "language_info": {
   "codemirror_mode": {
    "name": "ipython",
    "version": 3
   },
   "file_extension": ".py",
   "mimetype": "text/x-python",
   "name": "python",
   "nbconvert_exporter": "python",
   "pygments_lexer": "ipython3",
   "version": "3.11.4"
  }
 },
 "nbformat": 4,
 "nbformat_minor": 5
}
